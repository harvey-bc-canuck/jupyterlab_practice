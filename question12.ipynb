{
 "cells": [
  {
   "cell_type": "markdown",
   "id": "f381268c-3d63-432e-a094-4f22b262af17",
   "metadata": {},
   "source": [
    "We are currently working in the following directory:"
   ]
  },
  {
   "cell_type": "code",
   "execution_count": 1,
   "id": "fb5eef66-4c1c-457d-89af-358952d57c9a",
   "metadata": {},
   "outputs": [
    {
     "name": "stdout",
     "output_type": "stream",
     "text": [
      "/Users/ghimires/jupyterlab_practice\n"
     ]
    }
   ],
   "source": [
    "!pwd"
   ]
  },
  {
   "cell_type": "markdown",
   "id": "64f10992-2e6b-4b3c-9231-4d7b6cc41ebf",
   "metadata": {},
   "source": [
    "To time how long it takes to run a Python cell, we use `timeit`:\n",
    "\n",
    "**Note:**\n",
    "```python\n",
    "for i in range(1_000_000):\n",
    "    i**2"
   ]
  },
  {
   "cell_type": "code",
   "execution_count": 3,
   "id": "5e9042dc-f578-4664-b3f2-025549301b79",
   "metadata": {},
   "outputs": [
    {
     "name": "stdout",
     "output_type": "stream",
     "text": [
      "[NbConvertApp] Converting notebook question12.ipynb to html\n",
      "[NbConvertApp] Writing 269934 bytes to question12.html\n"
     ]
    }
   ],
   "source": [
    "!jupyter nbconvert --to html question12.ipynb --no-input"
   ]
  },
  {
   "cell_type": "code",
   "execution_count": null,
   "id": "02e0f81e-89f6-4a91-9d7b-4eab131d1a48",
   "metadata": {},
   "outputs": [],
   "source": []
  }
 ],
 "metadata": {
  "kernelspec": {
   "display_name": "Python (dstoolbox)",
   "language": "python",
   "name": "dstoolbox"
  },
  "language_info": {
   "codemirror_mode": {
    "name": "ipython",
    "version": 3
   },
   "file_extension": ".py",
   "mimetype": "text/x-python",
   "name": "python",
   "nbconvert_exporter": "python",
   "pygments_lexer": "ipython3",
   "version": "3.12.2"
  }
 },
 "nbformat": 4,
 "nbformat_minor": 5
}

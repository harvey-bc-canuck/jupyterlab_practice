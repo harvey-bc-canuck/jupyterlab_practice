{
 "cells": [
  {
   "cell_type": "markdown",
   "id": "389f80cd-0188-4d49-862d-00f4eed37e18",
   "metadata": {},
   "source": [
    "This notebook contains the following:\n",
    "\n",
    "1. A markdown cell with a level 1 heading that contains your name and one sentence under the heading saying \"Notebook for assignment 7\".\n",
    "2. A code cell with a Python function that computes the mean of the values in a list and prints the results. The function should be called at the bottom of the code cell with the syntax `compute_mean([2, 4, 6, 8])` which should output `5` (or `5.0`). The code cell should be executed so that the output is shown.\n",
    "3. Create a markdown cell under the code cell that explains what your code does and includes the equation of the mean written in Latex. To practice your Latex, please include two different ways of expression the equation of the mean ($\\bar{x}$)"
   ]
  },
  {
   "cell_type": "code",
   "execution_count": 4,
   "id": "1d786653-00a3-457c-a75a-b747ff882d7e",
   "metadata": {},
   "outputs": [
    {
     "name": "stdout",
     "output_type": "stream",
     "text": [
      "5.0\n"
     ]
    }
   ],
   "source": [
    "def compute_mean(numbers):\n",
    "    return sum(numbers) / len(numbers)\n",
    "\n",
    "print(compute_mean([2, 4, 6, 8]))"
   ]
  },
  {
   "cell_type": "markdown",
   "id": "624a8d43-8003-45f1-80f9-0405505b3de2",
   "metadata": {},
   "source": [
    "The code above defines a function, `compute_mean`. \n",
    "\n",
    "The equation for the mean (\\(\\bar{x}\\)) is expressed mathematically as follows:\n",
    "\n",
    "\\[\n",
    "\\bar{x} = \\frac{x_1 + x_2 + \\cdots + x_n}{n}\n",
    "\\]\n",
    "\n",
    "Alternatively, it can be written using summation notation:\n",
    "\n",
    "\\[\n",
    "\\bar{x} = \\frac{1}{n} \\sum_{i=1}^n x_i\n",
    "\\]\n"
   ]
  },
  {
   "cell_type": "code",
   "execution_count": null,
   "id": "6e60a3df-5114-4933-8f40-92dab742abe9",
   "metadata": {},
   "outputs": [],
   "source": []
  }
 ],
 "metadata": {
  "kernelspec": {
   "display_name": "Python (dstoolbox)",
   "language": "python",
   "name": "dstoolbox"
  },
  "language_info": {
   "codemirror_mode": {
    "name": "ipython",
    "version": 3
   },
   "file_extension": ".py",
   "mimetype": "text/x-python",
   "name": "python",
   "nbconvert_exporter": "python",
   "pygments_lexer": "ipython3",
   "version": "3.12.2"
  }
 },
 "nbformat": 4,
 "nbformat_minor": 5
}
